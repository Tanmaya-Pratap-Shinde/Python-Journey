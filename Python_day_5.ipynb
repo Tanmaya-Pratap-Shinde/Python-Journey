{
 "cells": [
  {
   "cell_type": "code",
   "execution_count": 2,
   "id": "fee80dae-9658-4e44-9a58-e770a38e6ea6",
   "metadata": {},
   "outputs": [
    {
     "name": "stdout",
     "output_type": "stream",
     "text": [
      "Function is about to run...\n",
      "Scanning target...\n",
      "Function has finished.\n"
     ]
    }
   ],
   "source": [
    "def log_decorator(func):\n",
    "    def wrapper():\n",
    "        print(\"Function is about to run...\")\n",
    "        func()\n",
    "        print(\"Function has finished.\")\n",
    "    return wrapper\n",
    "\n",
    "@log_decorator\n",
    "def scan():\n",
    "    print(\"Scanning target...\")\n",
    "\n",
    "scan()"
   ]
  },
  {
   "cell_type": "code",
   "execution_count": 14,
   "id": "76cc1b25-03a0-415f-a1a9-562875a23a61",
   "metadata": {},
   "outputs": [
    {
     "name": "stdout",
     "output_type": "stream",
     "text": [
      "['.ipynb_checkpoints', 'data.csv', 'log.txt', 'main.py', 'progress.json', 'Python_day_1.ipynb', 'Python_day_2.ipynb', 'Python_day_3.ipynb', 'Python_day_4.ipynb', 'Python_day_5.ipynb', 'report.txt', 'tools.py', 'tools.txt', '__pycache__']\n"
     ]
    }
   ],
   "source": [
    "import os\n",
    "print(os.listdir())"
   ]
  },
  {
   "cell_type": "code",
   "execution_count": null,
   "id": "27379544-ccda-44c5-99c1-6e5c38fd826a",
   "metadata": {},
   "outputs": [],
   "source": []
  }
 ],
 "metadata": {
  "kernelspec": {
   "display_name": "Python 3 (ipykernel)",
   "language": "python",
   "name": "python3"
  },
  "language_info": {
   "codemirror_mode": {
    "name": "ipython",
    "version": 3
   },
   "file_extension": ".py",
   "mimetype": "text/x-python",
   "name": "python",
   "nbconvert_exporter": "python",
   "pygments_lexer": "ipython3",
   "version": "3.13.2"
  }
 },
 "nbformat": 4,
 "nbformat_minor": 5
}
