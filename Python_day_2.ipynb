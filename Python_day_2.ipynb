{
 "cells": [
  {
   "cell_type": "code",
   "execution_count": 1,
   "id": "47829e83-766b-4207-8022-278ffef1aa5a",
   "metadata": {},
   "outputs": [
    {
     "name": "stdout",
     "output_type": "stream",
     "text": [
      "['apple', 'banana', 'mango']\n",
      "['apple', 'banana', 'mango', 'kiwi']\n"
     ]
    }
   ],
   "source": [
    "fruits=[\"apple\", \"banana\", \"mango\"]\n",
    "print(fruits)\n",
    "fruits.append(\"kiwi\")\n",
    "print(fruits)"
   ]
  },
  {
   "cell_type": "code",
   "execution_count": 2,
   "id": "213faf98-e668-42ce-9e78-0c3207e29c79",
   "metadata": {},
   "outputs": [
    {
     "name": "stdout",
     "output_type": "stream",
     "text": [
      "Resolutions: 1920 x 1080\n"
     ]
    }
   ],
   "source": [
    "dimensions=(1920, 1080)\n",
    "print(\"Resolutions:\", dimensions[0], \"x\", dimensions[1])"
   ]
  },
  {
   "cell_type": "code",
   "execution_count": 4,
   "id": "5d22002b-1674-45cf-940d-e0e8ec2e14dc",
   "metadata": {},
   "outputs": [
    {
     "name": "stdout",
     "output_type": "stream",
     "text": [
      "{'phone', 'laptop', 'tablet'}\n",
      "{'phone', 'laptop', 'tablet', 'camera'}\n"
     ]
    }
   ],
   "source": [
    "devices={\"laptop\",\"tablet\",\"phone\"}\n",
    "print(devices)\n",
    "devices.add(\"camera\")\n",
    "print(devices)"
   ]
  },
  {
   "cell_type": "code",
   "execution_count": 5,
   "id": "01c86ef6-8d85-41b3-aea2-7fc27534fe40",
   "metadata": {},
   "outputs": [
    {
     "name": "stdout",
     "output_type": "stream",
     "text": [
      "Red Team Expert\n"
     ]
    }
   ],
   "source": [
    "profile={\n",
    "    \"name\":\"Tanmaya\",\n",
    "    \"goal\":\"Red Team Expert\",\n",
    "    \"language\":\"Python\"\n",
    "}\n",
    "print(profile[\"goal\"])"
   ]
  },
  {
   "cell_type": "code",
   "execution_count": 6,
   "id": "071e7a86-6a2c-4a1c-b602-dd634a14aec2",
   "metadata": {},
   "outputs": [
    {
     "name": "stdout",
     "output_type": "stream",
     "text": [
      "networking:❌\n",
      "Linux commands:❌\n",
      "Python basics:✅\n",
      "Web hacking:❌\n"
     ]
    }
   ],
   "source": [
    "badge_tracker={\n",
    "    \"networking\":False,\n",
    "    \"Linux commands\":False,\n",
    "    \"Python basics\":True,\n",
    "    \"Web hacking\":False\n",
    "}\n",
    "for module, status in badge_tracker.items():\n",
    "    print(f\"{module}:{'\\u2705' if status else '\\u274C'}\")"
   ]
  },
  {
   "cell_type": "code",
   "execution_count": 7,
   "id": "03e59d37-7acf-4ff8-91c9-4a2897aea74a",
   "metadata": {},
   "outputs": [
    {
     "name": "stdout",
     "output_type": "stream",
     "text": [
      "Welcome Tanmaya, let's code in Python!\n",
      "Welcome ABC, let's code in HTML!\n"
     ]
    }
   ],
   "source": [
    "def greet(name=\"Tanmaya\", language=\"Python\"):\n",
    "    print(f\"Welcome {name}, let's code in {language}!\")\n",
    "\n",
    "greet()\n",
    "greet(name=\"ABC\", language=\"HTML\")"
   ]
  },
  {
   "cell_type": "code",
   "execution_count": 8,
   "id": "57357259-9df1-41f3-a5a1-7e571c9b76d7",
   "metadata": {},
   "outputs": [
    {
     "name": "stdout",
     "output_type": "stream",
     "text": [
      "Outer function\n",
      "Inner function\n"
     ]
    }
   ],
   "source": [
    "def outer():\n",
    "    print(\"Outer function\")\n",
    "    def inner():\n",
    "        print(\"Inner function\")\n",
    "    inner()\n",
    "outer()"
   ]
  },
  {
   "cell_type": "code",
   "execution_count": 9,
   "id": "fec3da85-08b3-480c-b417-ae818e2484bc",
   "metadata": {},
   "outputs": [
    {
     "name": "stdout",
     "output_type": "stream",
     "text": [
      "25\n"
     ]
    }
   ],
   "source": [
    "square=lambda x: x*x\n",
    "print(square(5))"
   ]
  },
  {
   "cell_type": "code",
   "execution_count": 10,
   "id": "545c9ae4-5717-40ca-b225-88d479750ce7",
   "metadata": {},
   "outputs": [
    {
     "name": "stdout",
     "output_type": "stream",
     "text": [
      "[1, 4, 9, 16, 25, 10000]\n"
     ]
    }
   ],
   "source": [
    "numbers=[1,2,3,4,5,100]\n",
    "squared=list(map(lambda x: x**2, numbers))\n",
    "print(squared)"
   ]
  },
  {
   "cell_type": "code",
   "execution_count": 12,
   "id": "2b338f5a-3e47-47f6-8c91-749c831dce87",
   "metadata": {},
   "outputs": [
    {
     "name": "stdout",
     "output_type": "stream",
     "text": [
      "[2, 4, 6, 8, 10]\n"
     ]
    }
   ],
   "source": [
    "numbers=[1,2,3,4,5,6,7,8,9,10]\n",
    "even=list(filter(lambda x: x%2==0, numbers))\n",
    "print(even)"
   ]
  },
  {
   "cell_type": "code",
   "execution_count": 13,
   "id": "3817b07a-117b-4abf-abfe-45ae35e03acb",
   "metadata": {},
   "outputs": [
    {
     "name": "stdout",
     "output_type": "stream",
     "text": [
      "24\n"
     ]
    }
   ],
   "source": [
    "from functools import reduce\n",
    "numbers=[1,2,3,4]\n",
    "product=reduce(lambda x,y: x*y, numbers)\n",
    "print(product)"
   ]
  },
  {
   "cell_type": "code",
   "execution_count": 15,
   "id": "c781c41e-ad6b-4406-bf47-4e6b1fc0538b",
   "metadata": {},
   "outputs": [
    {
     "name": "stdout",
     "output_type": "stream",
     "text": [
      "[30000, 45000, 60000] → [33000.0, 49500.0, 66000.0]\n"
     ]
    }
   ],
   "source": [
    "salaries=[30000, 45000, 60000]\n",
    "hiked=list(map(lambda x: x+x*0.10, salaries))\n",
    "print(salaries,\"\\u2192\",hiked)"
   ]
  },
  {
   "cell_type": "code",
   "execution_count": 17,
   "id": "8221c524-1d87-4ae4-956b-44051690517f",
   "metadata": {},
   "outputs": [
    {
     "name": "stdout",
     "output_type": "stream",
     "text": [
      "Scan started...New device detected.\n"
     ]
    }
   ],
   "source": [
    "with open(\"log.txt\", \"w\") as file:\n",
    "    file.write(\"Scan started...\")\n",
    "\n",
    "with open(\"log.txt\", \"a\") as file:\n",
    "    file.write(\"New device detected.\")\n",
    "\n",
    "with open(\"log.txt\",\"r\") as file:\n",
    "    print(file.read())"
   ]
  },
  {
   "cell_type": "code",
   "execution_count": 18,
   "id": "2fd0e63c-92e6-4f04-91d9-39e12829ab16",
   "metadata": {},
   "outputs": [
    {
     "name": "stdout",
     "output_type": "stream",
     "text": [
      "['Name', 'Score']\n",
      "['Abc', '95']\n"
     ]
    }
   ],
   "source": [
    "import csv\n",
    "with open(\"data.csv\", \"w\", newline=\"\") as file:\n",
    "    writer=csv.writer(file)\n",
    "    writer.writerow([\"Name\",\"Score\"])\n",
    "    writer.writerow([\"Abc\",95])\n",
    "\n",
    "with open(\"data.csv\",\"r\") as file:\n",
    "    reader=csv.reader(file)\n",
    "    for row in reader:\n",
    "        print(row)"
   ]
  },
  {
   "cell_type": "code",
   "execution_count": 19,
   "id": "b3476fff-aa6c-49a0-bc31-473ab4bf7e9e",
   "metadata": {},
   "outputs": [
    {
     "name": "stdout",
     "output_type": "stream",
     "text": [
      "{'name': 'Tanmaya', 'completed': ['Python basics', 'File handling']}\n"
     ]
    }
   ],
   "source": [
    "import json\n",
    "data={\n",
    "    \"name\":\"Tanmaya\",\n",
    "    \"completed\":[\"Python basics\", \"File handling\"]\n",
    "}\n",
    "with open(\"progress.json\", \"w\") as file:\n",
    "    json.dump(data,file)\n",
    "\n",
    "with open(\"progress.json\", \"r\") as file:\n",
    "    info=json.load(file)\n",
    "    print(info)"
   ]
  },
  {
   "cell_type": "code",
   "execution_count": 24,
   "id": "e8b76587-149e-4f26-9e6d-1ac697c7a01e",
   "metadata": {},
   "outputs": [
    {
     "name": "stdout",
     "output_type": "stream",
     "text": [
      "2025-07-10 22:11:43.715120-Completed:File Handling\n"
     ]
    }
   ],
   "source": [
    "from datetime import datetime\n",
    "def log_progress(module_name):\n",
    "    timestamp=datetime.now()\n",
    "    message=f\"{timestamp}-Completed:{module_name}\"\n",
    "    with open(\"report.txt\", \"a\") as file:\n",
    "        file.write(message+\"\\n\")\n",
    "    print(message)\n",
    "\n",
    "log_progress(\"File Handling\")"
   ]
  },
  {
   "cell_type": "code",
   "execution_count": null,
   "id": "32fd9bb3-fe2b-4ad0-9c34-6e218b24a7b5",
   "metadata": {},
   "outputs": [],
   "source": []
  }
 ],
 "metadata": {
  "kernelspec": {
   "display_name": "Python 3 (ipykernel)",
   "language": "python",
   "name": "python3"
  },
  "language_info": {
   "codemirror_mode": {
    "name": "ipython",
    "version": 3
   },
   "file_extension": ".py",
   "mimetype": "text/x-python",
   "name": "python",
   "nbconvert_exporter": "python",
   "pygments_lexer": "ipython3",
   "version": "3.13.2"
  }
 },
 "nbformat": 4,
 "nbformat_minor": 5
}
