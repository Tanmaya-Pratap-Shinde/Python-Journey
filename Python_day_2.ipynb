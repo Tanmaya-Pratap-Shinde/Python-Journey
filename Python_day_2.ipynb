{
 "cells": [
  {
   "cell_type": "code",
   "execution_count": 1,
   "id": "57e3fbd8-ebfa-4221-abd1-8e7a1a48f590",
   "metadata": {},
   "outputs": [
    {
     "name": "stdout",
     "output_type": "stream",
     "text": [
      "Nice weather\n"
     ]
    }
   ],
   "source": [
    "#conditional logic\n",
    "temperature=30\n",
    "if temperature>35:\n",
    "    print(\"It's too hot\")\n",
    "elif temperature>25:\n",
    "    print(\"Nice weather\")\n",
    "else:\n",
    "    print(\"It's a bit chilly\")"
   ]
  },
  {
   "cell_type": "code",
   "execution_count": 2,
   "id": "6e31fc12-9ed8-4f7c-b222-20222825d02e",
   "metadata": {},
   "outputs": [
    {
     "name": "stdout",
     "output_type": "stream",
     "text": [
      "Counting:  1\n",
      "Counting:  2\n",
      "Counting:  3\n",
      "Counting:  4\n",
      "Counting:  5\n",
      "While count:  1\n",
      "While count:  2\n",
      "While count:  3\n",
      "While count:  4\n",
      "While count:  5\n"
     ]
    }
   ],
   "source": [
    "#loops\n",
    "#for loop\n",
    "for i in range(1,6):\n",
    "    print(\"Counting: \",i)\n",
    "\n",
    "#while loop\n",
    "count=1\n",
    "while count<=5:\n",
    "    print(\"While count: \",count)\n",
    "    count+=1"
   ]
  },
  {
   "cell_type": "code",
   "execution_count": 3,
   "id": "6445380b-fd22-4527-8516-4022bceb1020",
   "metadata": {},
   "outputs": [
    {
     "name": "stdin",
     "output_type": "stream",
     "text": [
      "Enter your score:  92\n"
     ]
    },
    {
     "name": "stdout",
     "output_type": "stream",
     "text": [
      "Grade: A\n"
     ]
    }
   ],
   "source": [
    "#grade checker\n",
    "score=int(input(\"Enter your score: \"))\n",
    "if score>=90:\n",
    "    print(\"Grade: A\")\n",
    "elif score>=75:\n",
    "    print(\"Grade: B\")\n",
    "elif score>=60:\n",
    "    print(\"Grade: C\")\n",
    "else:\n",
    "    print(\"Grade: D\")"
   ]
  },
  {
   "cell_type": "code",
   "execution_count": null,
   "id": "5ae4fc55-3b32-4822-8d68-59d34125fb51",
   "metadata": {},
   "outputs": [],
   "source": []
  }
 ],
 "metadata": {
  "kernelspec": {
   "display_name": "Python 3 (ipykernel)",
   "language": "python",
   "name": "python3"
  },
  "language_info": {
   "codemirror_mode": {
    "name": "ipython",
    "version": 3
   },
   "file_extension": ".py",
   "mimetype": "text/x-python",
   "name": "python",
   "nbconvert_exporter": "python",
   "pygments_lexer": "ipython3",
   "version": "3.13.2"
  }
 },
 "nbformat": 4,
 "nbformat_minor": 5
}
