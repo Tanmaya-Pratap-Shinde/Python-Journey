{
 "cells": [
  {
   "cell_type": "code",
   "execution_count": 4,
   "id": "57e3fbd8-ebfa-4221-abd1-8e7a1a48f590",
   "metadata": {},
   "outputs": [
    {
     "name": "stdout",
     "output_type": "stream",
     "text": [
      "['apple', 'banana', 'mango']\n",
      "['apple', 'banana', 'mango', 'kiwi']\n"
     ]
    }
   ],
   "source": [
    "#lists\n",
    "fruits=[\"apple\",\"banana\",\"mango\"]\n",
    "print(fruits)\n",
    "fruits.append(\"kiwi\")\n",
    "print(fruits)"
   ]
  },
  {
   "cell_type": "code",
   "execution_count": 5,
   "id": "6e31fc12-9ed8-4f7c-b222-20222825d02e",
   "metadata": {},
   "outputs": [
    {
     "name": "stdout",
     "output_type": "stream",
     "text": [
      "Resolution=  1920 x 1080\n"
     ]
    }
   ],
   "source": [
    "#tuples\n",
    "dimensions=(1920, 1080)\n",
    "print(\"Resolution= \", dimensions[0],\"x\",dimensions[1])"
   ]
  },
  {
   "cell_type": "code",
   "execution_count": 6,
   "id": "6445380b-fd22-4527-8516-4022bceb1020",
   "metadata": {},
   "outputs": [
    {
     "name": "stdout",
     "output_type": "stream",
     "text": [
      "{'laptop', 'tablet', 'phone'}\n",
      "{'laptop', 'tablet', 'phone', 'camera'}\n"
     ]
    }
   ],
   "source": [
    "#sets\n",
    "devices={\"laptop\",\"tablet\",\"phone\"}\n",
    "print(devices)\n",
    "devices.add(\"camera\")\n",
    "print(devices)"
   ]
  },
  {
   "cell_type": "code",
   "execution_count": 7,
   "id": "5ae4fc55-3b32-4822-8d68-59d34125fb51",
   "metadata": {},
   "outputs": [
    {
     "name": "stdout",
     "output_type": "stream",
     "text": [
      "Red Team Expert\n"
     ]
    }
   ],
   "source": [
    "#dictionaries: key-value pairs\n",
    "profile={\n",
    "    \"name\":\"Tanmaya\",\n",
    "    \"goal\":\"Red Team Expert\",\n",
    "    \"language\":\"Python\"\n",
    "}\n",
    "print(profile[\"goal\"])"
   ]
  },
  {
   "cell_type": "code",
   "execution_count": 9,
   "id": "6cbc597f-c566-4849-943b-55ec57962a50",
   "metadata": {},
   "outputs": [
    {
     "name": "stdout",
     "output_type": "stream",
     "text": [
      "networking: ❌\n",
      "Python Basics: ✅\n",
      "Linux Basics: ✅\n",
      "Web Hacking: ❌\n"
     ]
    }
   ],
   "source": [
    "#badge tracker\n",
    "badge_tracker={\n",
    "    \"networking\":False,\n",
    "    \"Python Basics\":True,\n",
    "    \"Linux Basics\":True,\n",
    "    \"Web Hacking\":False\n",
    "}\n",
    "for module, status in badge_tracker.items():\n",
    "    print(f\"{module}: {'\\u2705' if status else '\\u274C'}\")"
   ]
  },
  {
   "cell_type": "code",
   "execution_count": 10,
   "id": "067b8b54-247f-44ad-833d-346b529addc1",
   "metadata": {},
   "outputs": [
    {
     "name": "stdout",
     "output_type": "stream",
     "text": [
      "Welcome Tanmaya, let's code in Python!\n",
      "Welcome ABC, let's code in HTML!\n"
     ]
    }
   ],
   "source": [
    "#default and keyword arguments\n",
    "def greet(name=\"Tanmaya\", language=\"Python\"):\n",
    "    print(f\"Welcome {name}, let's code in {language}!\")\n",
    "greet()\n",
    "greet(name=\"ABC\", language=\"HTML\")"
   ]
  },
  {
   "cell_type": "code",
   "execution_count": 14,
   "id": "d4abea8b-a758-4df0-8f19-d7426e526170",
   "metadata": {},
   "outputs": [
    {
     "name": "stdout",
     "output_type": "stream",
     "text": [
      "Outer function.\n",
      "Inner function.\n"
     ]
    }
   ],
   "source": [
    "#nested functions\n",
    "def outer():\n",
    "    print(\"Outer function.\")\n",
    "    def inner():\n",
    "        print(\"Inner function.\")\n",
    "    inner()\n",
    "outer()"
   ]
  },
  {
   "cell_type": "code",
   "execution_count": 15,
   "id": "0ccc504b-2589-4edd-b30b-ec72fcf195df",
   "metadata": {},
   "outputs": [
    {
     "name": "stdout",
     "output_type": "stream",
     "text": [
      "3136\n"
     ]
    }
   ],
   "source": [
    "#lambda functions\n",
    "square=lambda x: x*x\n",
    "print(square(56))"
   ]
  },
  {
   "cell_type": "code",
   "execution_count": 16,
   "id": "f26d6a10-cf37-48ee-8416-7f5dcc7a0490",
   "metadata": {},
   "outputs": [
    {
     "name": "stdout",
     "output_type": "stream",
     "text": [
      "[1, 4, 9, 16, 25]\n"
     ]
    }
   ],
   "source": [
    "#map functions\n",
    "numbers=[1,2,3,4,5]\n",
    "squared=list(map(lambda x: x**2, numbers))\n",
    "print(squared)"
   ]
  },
  {
   "cell_type": "code",
   "execution_count": 17,
   "id": "017e918f-fcc5-4a86-92a4-a1ac704307ce",
   "metadata": {},
   "outputs": [
    {
     "name": "stdout",
     "output_type": "stream",
     "text": [
      "[2, 4, 66, 10000]\n"
     ]
    }
   ],
   "source": [
    "#filter functions\n",
    "numbers=[1,2,3,4,5,66,321,10000,10005]\n",
    "even=list(filter(lambda x: x%2==0, numbers))\n",
    "print(even)"
   ]
  },
  {
   "cell_type": "code",
   "execution_count": 18,
   "id": "917c187a-0068-4f92-bc51-dfc4b30593f6",
   "metadata": {},
   "outputs": [
    {
     "name": "stdout",
     "output_type": "stream",
     "text": [
      "120\n"
     ]
    }
   ],
   "source": [
    "#reduce functions\n",
    "from functools import reduce\n",
    "numbers=[1,2,3,4,5]\n",
    "product= reduce(lambda x,y:  x*y, numbers)\n",
    "print(product)"
   ]
  },
  {
   "cell_type": "code",
   "execution_count": 21,
   "id": "bb765a6c-03de-4171-852a-06474f72cfdd",
   "metadata": {},
   "outputs": [
    {
     "name": "stdout",
     "output_type": "stream",
     "text": [
      "[30000, 45000, 67000] → [33000.0, 49500.0, 73700.0]\n"
     ]
    }
   ],
   "source": [
    "#salary uplifter\n",
    "salaries=[30000, 45000, 67000]\n",
    "hiked=list(map(lambda x: x+x*0.10, salaries))\n",
    "print(salaries, '\\u2192', hiked)"
   ]
  },
  {
   "cell_type": "code",
   "execution_count": 2,
   "id": "d31c25e7-e701-4b1b-b81f-c7bd18168cd4",
   "metadata": {},
   "outputs": [
    {
     "name": "stdout",
     "output_type": "stream",
     "text": [
      "Scan started...\n",
      "New device added\n"
     ]
    }
   ],
   "source": [
    "#working with .txt files\n",
    "#write to a file\n",
    "with open(\"log.txt\",\"w\") as file:\n",
    "    file.write(\"Scan started...\")\n",
    "\n",
    "#append new info\n",
    "with open(\"log.txt\",\"a\") as file:\n",
    "    file.write(\"\\nNew device added\")\n",
    "\n",
    "#read contents\n",
    "with open(\"log.txt\",\"r\") as file:\n",
    "    print(file.read())"
   ]
  },
  {
   "cell_type": "code",
   "execution_count": 3,
   "id": "5372af61-8d3d-4062-aa5c-cffe5db24c1f",
   "metadata": {},
   "outputs": [
    {
     "name": "stdout",
     "output_type": "stream",
     "text": [
      "['Name', 'Score']\n",
      "['Tanmaya', '91']\n"
     ]
    }
   ],
   "source": [
    "#working with .csv files\n",
    "import csv\n",
    "with open(\"data.csv\",\"w\",newline=\"\") as file:\n",
    "    writer=csv.writer(file)\n",
    "    writer.writerow([\"Name\",\"Score\"])\n",
    "    writer.writerow([\"Tanmaya\",\"91\"])\n",
    "\n",
    "with open(\"data.csv\",\"r\") as file:\n",
    "    reader=csv.reader(file)\n",
    "    for row in reader:\n",
    "        print(row)"
   ]
  },
  {
   "cell_type": "code",
   "execution_count": 4,
   "id": "fe8481c4-203a-463d-90c5-ad3ed19f461b",
   "metadata": {},
   "outputs": [
    {
     "name": "stdout",
     "output_type": "stream",
     "text": [
      "{'name': 'Tanmaya', 'completed': ['Python basics', 'File handling']}\n"
     ]
    }
   ],
   "source": [
    "#working with.json files\n",
    "import json\n",
    "data={\n",
    "    \"name\":\"Tanmaya\",\n",
    "    \"completed\":[\"Python basics\",\"File handling\"]\n",
    "}\n",
    "\n",
    "with open(\"progress.json\",\"w\") as file:\n",
    "    json.dump(data,file)\n",
    "\n",
    "with open(\"progress.json\",\"r\") as file:\n",
    "    info=json.load(file)\n",
    "    print(info)"
   ]
  },
  {
   "cell_type": "code",
   "execution_count": 9,
   "id": "ea37880b-43b4-4b9e-bfc9-b31b99ba1d6f",
   "metadata": {},
   "outputs": [
    {
     "name": "stdout",
     "output_type": "stream",
     "text": [
      "2025-07-12 23:02:16.966159 - Completed: File handling\n",
      "\n"
     ]
    }
   ],
   "source": [
    "#report generator\n",
    "from datetime import datetime\n",
    "def log_progress(module_name):\n",
    "    message=f\"{datetime.now()} - Completed: {module_name}\\n\"\n",
    "    with open(\"report.txt\",\"a\") as file:\n",
    "        file.write(message)\n",
    "    print(message)\n",
    "log_progress(\"File handling\")"
   ]
  },
  {
   "cell_type": "code",
   "execution_count": null,
   "id": "9d40480d-0d34-4f74-a66a-950b3307af60",
   "metadata": {},
   "outputs": [],
   "source": []
  }
 ],
 "metadata": {
  "kernelspec": {
   "display_name": "Python 3 (ipykernel)",
   "language": "python",
   "name": "python3"
  },
  "language_info": {
   "codemirror_mode": {
    "name": "ipython",
    "version": 3
   },
   "file_extension": ".py",
   "mimetype": "text/x-python",
   "name": "python",
   "nbconvert_exporter": "python",
   "pygments_lexer": "ipython3",
   "version": "3.13.2"
  }
 },
 "nbformat": 4,
 "nbformat_minor": 5
}
