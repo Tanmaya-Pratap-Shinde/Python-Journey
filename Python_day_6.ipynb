{
 "cells": [
  {
   "cell_type": "code",
   "execution_count": 2,
   "id": "1570659c-9db1-4fda-ad61-e29fcec42481",
   "metadata": {},
   "outputs": [
    {
     "name": "stdout",
     "output_type": "stream",
     "text": [
      "Starting recon...\n",
      "httpbin.org -> 44.207.188.95\n",
      "Recon complete...\n",
      "\n"
     ]
    }
   ],
   "source": [
    "def log_decorator(func):\n",
    "    def wrapper(domain):\n",
    "        print(\"Starting recon...\")\n",
    "        func(domain)\n",
    "        print(\"Recon complete...\\n\")\n",
    "    return wrapper\n",
    "\n",
    "@log_decorator\n",
    "def ping_target(domain):\n",
    "    import socket\n",
    "    ip=socket.gethostbyname(domain)\n",
    "    print(f\"{domain} -> {ip}\")\n",
    "\n",
    "ping_target(\"httpbin.org\")"
   ]
  },
  {
   "cell_type": "code",
   "execution_count": 4,
   "id": "9149a3e9-b74e-4450-a291-8c339f52021c",
   "metadata": {},
   "outputs": [
    {
     "name": "stdout",
     "output_type": "stream",
     "text": [
      "Saved: example.com -> 23.192.228.80\n"
     ]
    }
   ],
   "source": [
    "def save_ping(domain):\n",
    "    import socket\n",
    "    ip=socket.gethostbyname(domain)\n",
    "    with open(\"recon_log.txt\",\"a\") as file:\n",
    "        file.write(f\"{domain} -> {ip}\\n\")\n",
    "    print(f\"Saved: {domain} -> {ip}\")\n",
    "\n",
    "save_ping(\"example.com\")"
   ]
  },
  {
   "cell_type": "code",
   "execution_count": 5,
   "id": "054bdebd-c985-4183-b71a-d9c23b92f6c6",
   "metadata": {},
   "outputs": [
    {
     "name": "stdout",
     "output_type": "stream",
     "text": [
      "⚠ You can't divide by zero!\n"
     ]
    }
   ],
   "source": [
    "try:\n",
    "    x=10/0\n",
    "except ZeroDivisionError:\n",
    "    print(\"\\u26A0 You can't divide by zero!\")"
   ]
  },
  {
   "cell_type": "code",
   "execution_count": 6,
   "id": "d435784d-a595-464a-8f8e-06c2d1fa8e26",
   "metadata": {},
   "outputs": [
    {
     "name": "stdin",
     "output_type": "stream",
     "text": [
      "Enter your agr:  -0\n"
     ]
    },
    {
     "name": "stdout",
     "output_type": "stream",
     "text": [
      "You entered:  0\n"
     ]
    }
   ],
   "source": [
    "try:\n",
    "    age=int(input(\"Enter your agr: \"))\n",
    "    print(\"You entered: \",age)\n",
    "except ValueError:\n",
    "    print(\"\\u26A0 That's nat a valid number.\")"
   ]
  },
  {
   "cell_type": "code",
   "execution_count": 7,
   "id": "bfbabaa0-3933-4ecb-a6ab-fa4d858327f3",
   "metadata": {},
   "outputs": [
    {
     "name": "stdin",
     "output_type": "stream",
     "text": [
      "Enter your agr:  a\n"
     ]
    },
    {
     "name": "stdout",
     "output_type": "stream",
     "text": [
      "⚠ That's nat a valid number.\n"
     ]
    }
   ],
   "source": [
    "try:\n",
    "    age=int(input(\"Enter your agr: \"))\n",
    "    print(\"You entered: \",age)\n",
    "except ValueError:\n",
    "    print(\"\\u26A0 That's nat a valid number.\")"
   ]
  },
  {
   "cell_type": "code",
   "execution_count": 8,
   "id": "e8e686c0-0144-4f62-805f-b34dbf3cf7ed",
   "metadata": {},
   "outputs": [
    {
     "name": "stdout",
     "output_type": "stream",
     "text": [
      "⚠ File not found. Recheck file name.\n"
     ]
    }
   ],
   "source": [
    "try:\n",
    "    with open(\"abc.txt\",\"r\") as f:\n",
    "        content=f.read()\n",
    "        print(content)\n",
    "except FileNotFoundError:\n",
    "    print(\"\\u26A0 File not found. Recheck file name.\")"
   ]
  },
  {
   "cell_type": "code",
   "execution_count": 11,
   "id": "329587fb-5090-40cc-af5b-bb2dcf2b56f5",
   "metadata": {},
   "outputs": [
    {
     "name": "stdout",
     "output_type": "stream",
     "text": [
      "⚠ Could not resolve a.com.\n"
     ]
    }
   ],
   "source": [
    "import socket\n",
    "\n",
    "def safe_ping(domain):\n",
    "    try:\n",
    "        ip=socket.gethostbyname(domain)\n",
    "        print(f\"{domain} -> {ip}\")\n",
    "    except socket.gaierror:\n",
    "        print(f\"\\u26A0 Could not resolve {domain}.\")\n",
    "\n",
    "safe_ping(\"a.com\")"
   ]
  },
  {
   "cell_type": "code",
   "execution_count": 15,
   "id": "98b76be6-b9dc-4f06-81c8-c55ae3db87fb",
   "metadata": {},
   "outputs": [
    {
     "name": "stdin",
     "output_type": "stream",
     "text": [
      "Enter first number:  1\n",
      "Enter second number:  2\n",
      "Choose operation (+, -, *, /):  -\n"
     ]
    },
    {
     "data": {
      "text/plain": [
       "-1.0"
      ]
     },
     "execution_count": 15,
     "metadata": {},
     "output_type": "execute_result"
    }
   ],
   "source": [
    "def safe_calculator():\n",
    "    try:\n",
    "        n1=float(input(\"Enter first number: \"))\n",
    "        n2=float(input(\"Enter second number: \"))\n",
    "        operation=input(\"Choose operation (+, -, *, /): \")\n",
    "\n",
    "        if operation=='+':\n",
    "            r=n1+n2\n",
    "            return r\n",
    "        elif operation=='-':\n",
    "            r=n1-n2\n",
    "            return r\n",
    "        elif operation=='*':\n",
    "            r=n1*n2\n",
    "            return r\n",
    "        elif operation=='/':\n",
    "            r=n1/n2\n",
    "            return r\n",
    "\n",
    "        else:\n",
    "            print(\"\\u26A0 Invalid operation.\")\n",
    "            return\n",
    "    except ZeroDivisionError:\n",
    "        print(\"\\u26A0 You can't divide by zero\")\n",
    "    except ValueError:\n",
    "        print(\"\\u26A0 Please enter valid numbers\")\n",
    "\n",
    "safe_calculator()"
   ]
  },
  {
   "cell_type": "code",
   "execution_count": 3,
   "id": "ae691dfc-e495-4a83-9146-c98f0fa9ce20",
   "metadata": {},
   "outputs": [
    {
     "name": "stdout",
     "output_type": "stream",
     "text": [
      "📁 Current Folder:  C:\\Users\\HP\\A. Python Journey\n",
      "📄 Files:  ['.ipynb_checkpoints', 'data.csv', 'importing', 'log.txt', 'progress.json', 'Python_day_1.ipynb', 'Python_day_2.ipynb', 'Python_day_3.ipynb', 'Python_day_4.ipynb', 'Python_day_5.ipynb', 'Python_day_6.ipynb', 'report.txt', 'tools.txt', '__pycache__']\n"
     ]
    }
   ],
   "source": [
    "import os\n",
    "print(\"\\U0001F4C1 Current Folder: \", os.getcwd())\n",
    "print(\"\\U0001F4C4 Files: \", os.listdir())"
   ]
  },
  {
   "cell_type": "code",
   "execution_count": 4,
   "id": "36c5b50c-53cd-4e0a-9cde-ba61edbed891",
   "metadata": {},
   "outputs": [
    {
     "name": "stdout",
     "output_type": "stream",
     "text": [
      "✅ httpbin.org resolved to 3.229.116.23\n",
      "📄 Logged successfully\n"
     ]
    }
   ],
   "source": [
    "import socket\n",
    "import os\n",
    "\n",
    "def recon(domain, log_file=\"recon_log.txt\"):\n",
    "    try:\n",
    "        ip=socket.gethostbyname(domain)\n",
    "        with open(log_file,\"a\") as f:\n",
    "            f.write(f\"{domain} -> {ip} \\n\")\n",
    "\n",
    "        print(f\"\\u2705 {domain} resolved to {ip}\")\n",
    "        print(f\"\\U0001F4C4 Logged successfully\")\n",
    "\n",
    "    except socket.gaierror:\n",
    "        print(f\"\\u26A0 Could not resolve {domain}. Check spelling or connection.\")\n",
    "    except Exception as e:\n",
    "        print(f\"\\u26A0 Unexpected error: {e}\")\n",
    "\n",
    "recon(\"httpbin.org\")"
   ]
  },
  {
   "cell_type": "code",
   "execution_count": 1,
   "id": "392eb92e-c919-455b-a737-64a6492bca8a",
   "metadata": {},
   "outputs": [
    {
     "name": "stdout",
     "output_type": "stream",
     "text": [
      "⚠ Something went wrong:  division by zero\n",
      "📝 Error logged\n"
     ]
    }
   ],
   "source": [
    "import time\n",
    "\n",
    "def log_error(e):\n",
    "    timestamp=time.strftime(\"[%Y-%m-%d %H:%M:%S]\")\n",
    "    with open(\"error_log.txt\", \"a\") as f:\n",
    "        f.write(f\"{timestamp} {str(e)}\\n\")\n",
    "    print(\"\\U0001F4DD Error logged\")\n",
    "\n",
    "try:\n",
    "    result = 10/0\n",
    "except Exception as e:\n",
    "    print(\"\\u26A0 Something went wrong: \",e)\n",
    "    log_error(e)"
   ]
  },
  {
   "cell_type": "code",
   "execution_count": 2,
   "id": "13f3ee94-0197-47b1-9556-250d60054f71",
   "metadata": {},
   "outputs": [
    {
     "name": "stdout",
     "output_type": "stream",
     "text": [
      "📝\n",
      "📄\n",
      "✅\n",
      "❌\n"
     ]
    }
   ],
   "source": [
    "print(\"\\U0001F4DD\")  \n",
    "print(\"\\U0001F4C4\")  \n",
    "print(\"\\u2705\")      \n",
    "print(\"\\u274C\")      "
   ]
  },
  {
   "cell_type": "code",
   "execution_count": 3,
   "id": "d4dae0b2-c9cf-46e7-9207-61663d17c004",
   "metadata": {},
   "outputs": [
    {
     "name": "stdout",
     "output_type": "stream",
     "text": [
      "📁 .ipynb_checkpoints\n",
      "📁 importing\n",
      "📁 __pycache__\n"
     ]
    }
   ],
   "source": [
    "import os\n",
    "\n",
    "folders = [name for name in os.listdir() if os.path.isdir(name)]\n",
    "\n",
    "for folder in folders:\n",
    "    print(f\"\\U0001F4C1 {folder}\")"
   ]
  },
  {
   "cell_type": "code",
   "execution_count": 4,
   "id": "a2c9fb77-8591-46cc-bcfd-30188bb627ac",
   "metadata": {},
   "outputs": [
    {
     "name": "stdout",
     "output_type": "stream",
     "text": [
      "📁 .ipynb_checkpoints\n",
      "📁 importing\n",
      "📁 __pycache__\n"
     ]
    }
   ],
   "source": [
    "import os\n",
    "for item in os.listdir():\n",
    "    if os.path.isdir(item):\n",
    "        print(f\"📁 {item}\")"
   ]
  },
  {
   "cell_type": "code",
   "execution_count": null,
   "id": "609dad12-edfe-427a-9814-4ef0d31921d1",
   "metadata": {},
   "outputs": [],
   "source": []
  }
 ],
 "metadata": {
  "kernelspec": {
   "display_name": "Python 3 (ipykernel)",
   "language": "python",
   "name": "python3"
  },
  "language_info": {
   "codemirror_mode": {
    "name": "ipython",
    "version": 3
   },
   "file_extension": ".py",
   "mimetype": "text/x-python",
   "name": "python",
   "nbconvert_exporter": "python",
   "pygments_lexer": "ipython3",
   "version": "3.13.2"
  }
 },
 "nbformat": 4,
 "nbformat_minor": 5
}
