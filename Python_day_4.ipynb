{
 "cells": [
  {
   "cell_type": "raw",
   "id": "ea0ef633-40f5-4f23-a95c-861c442c1d7b",
   "metadata": {},
   "source": [
    "Basic practice"
   ]
  },
  {
   "cell_type": "code",
   "execution_count": 1,
   "id": "a63c70d9-9b6c-4726-82de-c1c52a6bedbc",
   "metadata": {},
   "outputs": [
    {
     "name": "stdout",
     "output_type": "stream",
     "text": [
      "Sum:  10\n"
     ]
    }
   ],
   "source": [
    "def add(x,y):\n",
    "    return x+y\n",
    "print(\"Sum: \", add(4,6))"
   ]
  },
  {
   "cell_type": "code",
   "execution_count": 4,
   "id": "c5f1f848-f802-4c09-9c7c-644143fd3b63",
   "metadata": {},
   "outputs": [
    {
     "name": "stdout",
     "output_type": "stream",
     "text": [
      "Area:  6750\n"
     ]
    }
   ],
   "source": [
    "def area(length, width):\n",
    "    return length*width\n",
    "print(\"Area: \",area(90,75))"
   ]
  },
  {
   "cell_type": "code",
   "execution_count": 6,
   "id": "2e88bf5c-17f3-407a-b171-16375d661900",
   "metadata": {},
   "outputs": [
    {
     "name": "stdin",
     "output_type": "stream",
     "text": [
      "Enter your age:  17\n"
     ]
    },
    {
     "data": {
      "text/plain": [
       "'Not Eligible'"
      ]
     },
     "execution_count": 6,
     "metadata": {},
     "output_type": "execute_result"
    }
   ],
   "source": [
    "def is_eligible(age):\n",
    "    if age>=18:\n",
    "        return \"Eligible\"\n",
    "    return \"Not Eligible\"\n",
    "is_eligible(int(input(\"Enter your age: \")))"
   ]
  },
  {
   "cell_type": "code",
   "execution_count": 7,
   "id": "fde4ba60-8f8a-4f50-a8d6-b491420eb93f",
   "metadata": {},
   "outputs": [
    {
     "name": "stdout",
     "output_type": "stream",
     "text": [
      "Reversed:  ['Burp', 'Wireshark', 'Nmap']\n"
     ]
    }
   ],
   "source": [
    "tools=[\"Nmap\", \"Wireshark\",\"Burp\"]\n",
    "print(\"Reversed: \", tools[::-1]) #tools[start:stop:step]"
   ]
  },
  {
   "cell_type": "code",
   "execution_count": 9,
   "id": "e9819a81-129d-41d5-b076-d0c8846962bc",
   "metadata": {},
   "outputs": [
    {
     "name": "stdout",
     "output_type": "stream",
     "text": [
      "Nmap is a Scanner\n",
      "Wireshark is a Sniffer\n"
     ]
    }
   ],
   "source": [
    "tools={\"Nmap\": \"Scanner\",\"Wireshark\":\"Sniffer\"}\n",
    "for tool,function in tools.items():\n",
    "    print(tool, \"is a\", function)"
   ]
  },
  {
   "cell_type": "code",
   "execution_count": 10,
   "id": "2614c278-ae26-43c2-ae89-406724a8e325",
   "metadata": {},
   "outputs": [
    {
     "name": "stdout",
     "output_type": "stream",
     "text": [
      "Unique tools:  {'Wireshark', 'Burp', 'Nmap'}\n"
     ]
    }
   ],
   "source": [
    "tools=[\"Nmap\",\"Burp\",\"Nmap\",\"Wireshark\"]\n",
    "unique=set(tools)\n",
    "print(\"Unique tools: \", unique)"
   ]
  },
  {
   "cell_type": "code",
   "execution_count": 1,
   "id": "7329844a-2d16-4062-b41c-63b68dcde123",
   "metadata": {},
   "outputs": [
    {
     "name": "stdout",
     "output_type": "stream",
     "text": [
      "Tripled:  [3, 6, 9]\n"
     ]
    }
   ],
   "source": [
    "num=[1,2,3]\n",
    "tripled=list(map(lambda x: x*3, num))\n",
    "print(\"Tripled: \", tripled)"
   ]
  },
  {
   "cell_type": "code",
   "execution_count": 2,
   "id": "509b51c5-19e2-4606-957b-a1efd97bef58",
   "metadata": {},
   "outputs": [
    {
     "name": "stdout",
     "output_type": "stream",
     "text": [
      "Even numbers:  [10, 18, 24, 14]\n",
      "Odd numbers:  [13, 19, 33]\n"
     ]
    }
   ],
   "source": [
    "num=[10,13,18,19,24,33,14]\n",
    "even=list(filter(lambda x: x%2==0, num))\n",
    "print(\"Even numbers: \",even)\n",
    "odd=list(filter(lambda x: x%2==1, num))\n",
    "print(\"Odd numbers: \",odd)"
   ]
  },
  {
   "cell_type": "code",
   "execution_count": 3,
   "id": "55bcdadf-28f2-4b8b-9e6a-0c1e233843d1",
   "metadata": {},
   "outputs": [
    {
     "name": "stdout",
     "output_type": "stream",
     "text": [
      "lengths:  [5, 5, 7]\n"
     ]
    }
   ],
   "source": [
    "words=[\"cyber\",\"tools\",\"scanner\"]\n",
    "lengths=list(map(len, words))\n",
    "print(\"lengths: \",lengths)"
   ]
  },
  {
   "cell_type": "code",
   "execution_count": 5,
   "id": "1cbd16fd-6ed5-455c-86f5-1c7b75797df6",
   "metadata": {},
   "outputs": [
    {
     "name": "stdout",
     "output_type": "stream",
     "text": [
      "Reverse:  ['scanner', 'tools', 'cyber']\n",
      "Sorted:  ['cyber', 'scanner', 'tools']\n",
      "Descending:  ['tools', 'scanner', 'cyber']\n",
      "Sorted in-place:  ['cyber', 'scanner', 'tools']\n"
     ]
    }
   ],
   "source": [
    "words=[\"cyber\",\"tools\",\"scanner\"]\n",
    "reverse=list(reversed(words))\n",
    "print(\"Reverse: \",reverse)\n",
    "sort=sorted(words)\n",
    "print(\"Sorted: \",sort)\n",
    "descending=sorted(words, reverse=True)\n",
    "print(\"Descending: \",descending)\n",
    "words.sort()\n",
    "print(\"Sorted in-place: \", words)"
   ]
  },
  {
   "cell_type": "code",
   "execution_count": 7,
   "id": "9e33ef76-5443-4b76-bda3-1818240f56c4",
   "metadata": {},
   "outputs": [
    {
     "name": "stdout",
     "output_type": "stream",
     "text": [
      "lines in file: \n",
      " ['Scan started...\\n', 'New device added\\n', 'New entry added.\\n', 'New entry added.']\n",
      "Total lines:  4\n",
      "All contents= \n",
      " ['Nmap\\n', 'Burp\\n', 'Wireshark\\n']\n"
     ]
    }
   ],
   "source": [
    "with open(\"log.txt\",\"a\") as f:\n",
    "    f.write(\"\\nNew entry added.\")\n",
    "\n",
    "with open(\"log.txt.\",\"r\") as f:\n",
    "    lines=f.readlines()\n",
    "    print(\"lines in file: \\n\", lines)\n",
    "    print(\"Total lines: \",len(lines))\n",
    "\n",
    "tools=[\"Nmap\",\"Burp\",\"Wireshark\"]\n",
    "with open(\"tools.txt\",\"w\") as f:\n",
    "    for tool in tools:\n",
    "        f.write(tool + \"\\n\")\n",
    "\n",
    "with open(\"tools.txt\",\"r\") as f:\n",
    "    content=f.readlines()\n",
    "    print(\"All contents= \\n\", content)"
   ]
  },
  {
   "cell_type": "markdown",
   "id": "9f5b61c7-25a5-4123-83c5-f16e1e56c6a3",
   "metadata": {},
   "source": []
  }
 ],
 "metadata": {
  "kernelspec": {
   "display_name": "Python 3 (ipykernel)",
   "language": "python",
   "name": "python3"
  },
  "language_info": {
   "codemirror_mode": {
    "name": "ipython",
    "version": 3
   },
   "file_extension": ".py",
   "mimetype": "text/x-python",
   "name": "python",
   "nbconvert_exporter": "python",
   "pygments_lexer": "ipython3",
   "version": "3.13.2"
  }
 },
 "nbformat": 4,
 "nbformat_minor": 5
}
