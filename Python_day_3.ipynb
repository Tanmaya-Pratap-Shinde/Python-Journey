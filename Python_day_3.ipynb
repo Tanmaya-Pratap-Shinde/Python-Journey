{
 "cells": [
  {
   "cell_type": "code",
   "execution_count": 2,
   "id": "08b622e5-9478-47b6-8bab-73084a729d29",
   "metadata": {},
   "outputs": [
    {
     "name": "stdout",
     "output_type": "stream",
     "text": [
      "ABC has a level of 2 in Python\n"
     ]
    }
   ],
   "source": [
    "#creating class and objects\n",
    "class C:\n",
    "    def __init__(self, name, skill_level):\n",
    "        self.name=name\n",
    "        self.skill_level=skill_level\n",
    "\n",
    "    def show_profile(self):\n",
    "        print(f\"{self.name} has a level of {self.skill_level} in Python\")\n",
    "c=C(\"ABC\",2)\n",
    "c.show_profile()"
   ]
  },
  {
   "cell_type": "code",
   "execution_count": 3,
   "id": "c1fab10e-7bf6-4979-857d-bdc5bc77979c",
   "metadata": {},
   "outputs": [
    {
     "name": "stdout",
     "output_type": "stream",
     "text": [
      "Encrypted logs\n"
     ]
    }
   ],
   "source": [
    "#encapsulation\n",
    "class secureSystem:\n",
    "    def __init__(self):\n",
    "        self._data=\"Encrypted logs\"\n",
    "    def access_data(self):\n",
    "        return self._data\n",
    "\n",
    "system=secureSystem()\n",
    "print(system.access_data())"
   ]
  },
  {
   "cell_type": "code",
   "execution_count": 4,
   "id": "042ce0c6-9fdc-4f74-bc3d-39f8c3decfcb",
   "metadata": {},
   "outputs": [
    {
     "name": "stdout",
     "output_type": "stream",
     "text": [
      "Scanning target...\n",
      "exploiting vulnerabilities...\n"
     ]
    }
   ],
   "source": [
    "#inheritance\n",
    "class securityTool:\n",
    "    def scan(self):\n",
    "        print(\"Scanning target...\")\n",
    "\n",
    "class advancedTool(securityTool):\n",
    "    def exploit(self):\n",
    "        print(\"exploiting vulnerabilities...\")\n",
    "\n",
    "tool=advancedTool()\n",
    "tool.scan()\n",
    "tool.exploit()"
   ]
  },
  {
   "cell_type": "code",
   "execution_count": 5,
   "id": "00797806-f904-4065-9f70-562535956e6e",
   "metadata": {},
   "outputs": [
    {
     "name": "stdout",
     "output_type": "stream",
     "text": [
      "Customized scan with extra rules\n"
     ]
    }
   ],
   "source": [
    "#method overridding\n",
    "class Basic:\n",
    "    def scan(self):\n",
    "        print(\"Standard scan\")\n",
    "\n",
    "class Custom(Basic):\n",
    "    def scan(self):\n",
    "        print(\"Customized scan with extra rules\")\n",
    "\n",
    "Custom().scan()"
   ]
  },
  {
   "cell_type": "code",
   "execution_count": 11,
   "id": "182c7123-dc7c-485c-a311-536a7affdd61",
   "metadata": {},
   "outputs": [
    {
     "name": "stdout",
     "output_type": "stream",
     "text": [
      "Metasploit 🧱 is scanning\n",
      "Metasploit 🧱 in progress\n"
     ]
    }
   ],
   "source": [
    "class CyberTool:\n",
    "    def __init__(self):\n",
    "        self._tool=\"Metasploit \\U0001F9F1\"\n",
    "    def run_scan(self):\n",
    "        print(f\"{self._tool} is scanning\")\n",
    "    def report_status(self):\n",
    "        print(f\"{self._tool} in progress\")\n",
    "\n",
    "scan=CyberTool()\n",
    "scan.run_scan()\n",
    "scan.report_status()"
   ]
  },
  {
   "cell_type": "code",
   "execution_count": 12,
   "id": "7cd82efd-a837-4f80-8a7a-4e8c7e786bd5",
   "metadata": {},
   "outputs": [
    {
     "name": "stdin",
     "output_type": "stream",
     "text": [
      "Enter a number:  8\n"
     ]
    },
    {
     "name": "stdout",
     "output_type": "stream",
     "text": [
      "12.5\n"
     ]
    }
   ],
   "source": [
    "#try-except\n",
    "try:\n",
    "    num=int(input(\"Enter a number: \"))\n",
    "    print(100/num)\n",
    "except ZeroDivisionError:\n",
    "    print(\"Can't divide by zero!\")\n",
    "except ValueError:\n",
    "    print(\"Please enter a valid number.\")"
   ]
  },
  {
   "cell_type": "code",
   "execution_count": 13,
   "id": "ac6f5b7d-1382-44ec-8bf1-a81ada60e78b",
   "metadata": {},
   "outputs": [
    {
     "name": "stdout",
     "output_type": "stream",
     "text": [
      "File read successfully\n",
      "Execution completed\n"
     ]
    }
   ],
   "source": [
    "#try-except-else-finally\n",
    "try:\n",
    "    file=open(\"log.txt\",\"r\")\n",
    "    content=file.read()\n",
    "except FileNotFoundError:\n",
    "    print(\"File not found\")\n",
    "else:\n",
    "    print(\"File read successfully\")\n",
    "finally:\n",
    "    print(\"Execution completed\")"
   ]
  },
  {
   "cell_type": "code",
   "execution_count": 14,
   "id": "82a845a6-3d00-411d-8fd6-fa0572fef742",
   "metadata": {},
   "outputs": [
    {
     "name": "stdout",
     "output_type": "stream",
     "text": [
      "File not found\n",
      "Execution completed\n"
     ]
    }
   ],
   "source": [
    "#try-except-else-finally\n",
    "try:\n",
    "    file=open(\"g.txt\",\"r\")\n",
    "    content=file.read()\n",
    "except FileNotFoundError:\n",
    "    print(\"File not found\")\n",
    "else:\n",
    "    print(\"File read successfully\")\n",
    "finally:\n",
    "    print(\"Execution completed\")"
   ]
  },
  {
   "cell_type": "code",
   "execution_count": 22,
   "id": "7387b2bf-a7a3-42c6-999e-967710107858",
   "metadata": {},
   "outputs": [
    {
     "name": "stdout",
     "output_type": "stream",
     "text": [
      "Metasploit found\n"
     ]
    }
   ],
   "source": [
    "#raise custom exception\n",
    "def validate_tool(tool_name):\n",
    "    if tool_name != \"Metasploit\":\n",
    "        raise Exception(\"\\u26A0 Unknown cybersecurity tool\")\n",
    "        print(\"\\u26A0 Unknown cybersecurity tool\")\n",
    "    print(f\"{tool_name} found\")\n",
    "\n",
    "validate_tool(\"Metasploit\")"
   ]
  },
  {
   "cell_type": "code",
   "execution_count": 23,
   "id": "49b0b923-43f8-476b-b67d-9e85c02beac6",
   "metadata": {},
   "outputs": [
    {
     "name": "stdout",
     "output_type": "stream",
     "text": [
      "⚠ Unknown cybersecurity tool\n"
     ]
    },
    {
     "ename": "Exception",
     "evalue": "⚠ Unknown cybersecurity tool",
     "output_type": "error",
     "traceback": [
      "\u001b[31m---------------------------------------------------------------------------\u001b[39m",
      "\u001b[31mException\u001b[39m                                 Traceback (most recent call last)",
      "\u001b[36mCell\u001b[39m\u001b[36m \u001b[39m\u001b[32mIn[23]\u001b[39m\u001b[32m, line 8\u001b[39m\n\u001b[32m      5\u001b[39m         \u001b[38;5;28;01mraise\u001b[39;00m \u001b[38;5;167;01mException\u001b[39;00m(\u001b[33m\"\u001b[39m\u001b[38;5;130;01m\\u26A0\u001b[39;00m\u001b[33m Unknown cybersecurity tool\u001b[39m\u001b[33m\"\u001b[39m)\n\u001b[32m      6\u001b[39m     \u001b[38;5;28mprint\u001b[39m(\u001b[33mf\u001b[39m\u001b[33m\"\u001b[39m\u001b[38;5;132;01m{\u001b[39;00mtool_name\u001b[38;5;132;01m}\u001b[39;00m\u001b[33m found\u001b[39m\u001b[33m\"\u001b[39m)\n\u001b[32m----> \u001b[39m\u001b[32m8\u001b[39m \u001b[43mvalidate_tool\u001b[49m\u001b[43m(\u001b[49m\u001b[33;43m\"\u001b[39;49m\u001b[33;43mNmap\u001b[39;49m\u001b[33;43m\"\u001b[39;49m\u001b[43m)\u001b[49m\n",
      "\u001b[36mCell\u001b[39m\u001b[36m \u001b[39m\u001b[32mIn[23]\u001b[39m\u001b[32m, line 5\u001b[39m, in \u001b[36mvalidate_tool\u001b[39m\u001b[34m(tool_name)\u001b[39m\n\u001b[32m      3\u001b[39m \u001b[38;5;28;01mif\u001b[39;00m tool_name != \u001b[33m\"\u001b[39m\u001b[33mMetasploit\u001b[39m\u001b[33m\"\u001b[39m:\n\u001b[32m      4\u001b[39m     \u001b[38;5;28mprint\u001b[39m(\u001b[33m\"\u001b[39m\u001b[38;5;130;01m\\u26A0\u001b[39;00m\u001b[33m Unknown cybersecurity tool\u001b[39m\u001b[33m\"\u001b[39m)\n\u001b[32m----> \u001b[39m\u001b[32m5\u001b[39m     \u001b[38;5;28;01mraise\u001b[39;00m \u001b[38;5;167;01mException\u001b[39;00m(\u001b[33m\"\u001b[39m\u001b[38;5;130;01m\\u26A0\u001b[39;00m\u001b[33m Unknown cybersecurity tool\u001b[39m\u001b[33m\"\u001b[39m)\n\u001b[32m      6\u001b[39m \u001b[38;5;28mprint\u001b[39m(\u001b[33mf\u001b[39m\u001b[33m\"\u001b[39m\u001b[38;5;132;01m{\u001b[39;00mtool_name\u001b[38;5;132;01m}\u001b[39;00m\u001b[33m found\u001b[39m\u001b[33m\"\u001b[39m)\n",
      "\u001b[31mException\u001b[39m: ⚠ Unknown cybersecurity tool"
     ]
    }
   ],
   "source": [
    "#raise custom exception\n",
    "def validate_tool(tool_name):\n",
    "    if tool_name != \"Metasploit\":\n",
    "        print(\"\\u26A0 Unknown cybersecurity tool\")\n",
    "        raise Exception(\"\\u26A0 Unknown cybersecurity tool\")\n",
    "    print(f\"{tool_name} found\")\n",
    "\n",
    "validate_tool(\"Nmap\")"
   ]
  },
  {
   "cell_type": "code",
   "execution_count": 25,
   "id": "37bc17af-85a3-442e-a0d3-acdcadfa321c",
   "metadata": {},
   "outputs": [
    {
     "ename": "ToolNotFoundError",
     "evalue": "⚠ Tool 'WireShark' not found",
     "output_type": "error",
     "traceback": [
      "\u001b[31m---------------------------------------------------------------------------\u001b[39m",
      "\u001b[31mToolNotFoundError\u001b[39m                         Traceback (most recent call last)",
      "\u001b[36mCell\u001b[39m\u001b[36m \u001b[39m\u001b[32mIn[25]\u001b[39m\u001b[32m, line 9\u001b[39m\n\u001b[32m      6\u001b[39m         \u001b[38;5;28;01mraise\u001b[39;00m ToolNotFoundError(\u001b[33mf\u001b[39m\u001b[33m\"\u001b[39m\u001b[38;5;130;01m\\u26A0\u001b[39;00m\u001b[33m Tool \u001b[39m\u001b[33m'\u001b[39m\u001b[38;5;132;01m{\u001b[39;00mtool_name\u001b[38;5;132;01m}\u001b[39;00m\u001b[33m'\u001b[39m\u001b[33m not found\u001b[39m\u001b[33m\"\u001b[39m)\n\u001b[32m      7\u001b[39m     \u001b[38;5;28mprint\u001b[39m(\u001b[33mf\u001b[39m\u001b[33m\"\u001b[39m\u001b[38;5;132;01m{\u001b[39;00mtool_name\u001b[38;5;132;01m}\u001b[39;00m\u001b[33m validated \u001b[39m\u001b[38;5;130;01m\\u2705\u001b[39;00m\u001b[33m\"\u001b[39m)\n\u001b[32m----> \u001b[39m\u001b[32m9\u001b[39m \u001b[43mvalidate_tool\u001b[49m\u001b[43m(\u001b[49m\u001b[33;43m\"\u001b[39;49m\u001b[33;43mWireShark\u001b[39;49m\u001b[33;43m\"\u001b[39;49m\u001b[43m)\u001b[49m\n",
      "\u001b[36mCell\u001b[39m\u001b[36m \u001b[39m\u001b[32mIn[25]\u001b[39m\u001b[32m, line 6\u001b[39m, in \u001b[36mvalidate_tool\u001b[39m\u001b[34m(tool_name)\u001b[39m\n\u001b[32m      4\u001b[39m \u001b[38;5;28;01mdef\u001b[39;00m\u001b[38;5;250m \u001b[39m\u001b[34mvalidate_tool\u001b[39m(tool_name):\n\u001b[32m      5\u001b[39m     \u001b[38;5;28;01mif\u001b[39;00m tool_name!=\u001b[33m\"\u001b[39m\u001b[33mMetasploit\u001b[39m\u001b[33m\"\u001b[39m:\n\u001b[32m----> \u001b[39m\u001b[32m6\u001b[39m         \u001b[38;5;28;01mraise\u001b[39;00m ToolNotFoundError(\u001b[33mf\u001b[39m\u001b[33m\"\u001b[39m\u001b[38;5;130;01m\\u26A0\u001b[39;00m\u001b[33m Tool \u001b[39m\u001b[33m'\u001b[39m\u001b[38;5;132;01m{\u001b[39;00mtool_name\u001b[38;5;132;01m}\u001b[39;00m\u001b[33m'\u001b[39m\u001b[33m not found\u001b[39m\u001b[33m\"\u001b[39m)\n\u001b[32m      7\u001b[39m     \u001b[38;5;28mprint\u001b[39m(\u001b[33mf\u001b[39m\u001b[33m\"\u001b[39m\u001b[38;5;132;01m{\u001b[39;00mtool_name\u001b[38;5;132;01m}\u001b[39;00m\u001b[33m validated \u001b[39m\u001b[38;5;130;01m\\u2705\u001b[39;00m\u001b[33m\"\u001b[39m)\n",
      "\u001b[31mToolNotFoundError\u001b[39m: ⚠ Tool 'WireShark' not found"
     ]
    }
   ],
   "source": [
    "class ToolNotFoundError(Exception):\n",
    "    pass\n",
    "\n",
    "def validate_tool(tool_name):\n",
    "    if tool_name!=\"Metasploit\":\n",
    "        raise ToolNotFoundError(f\"\\u26A0 Tool '{tool_name}' not found\")\n",
    "    print(f\"{tool_name} validated \\u2705\")\n",
    "\n",
    "validate_tool(\"WireShark\")"
   ]
  },
  {
   "cell_type": "code",
   "execution_count": 27,
   "id": "955f3967-5863-47b9-be72-7103ca8e76d3",
   "metadata": {},
   "outputs": [
    {
     "name": "stdout",
     "output_type": "stream",
     "text": [
      "Your IP info:  {\n",
      "  \"origin\": \"122.170.197.166\"\n",
      "}\n",
      "\n",
      "Your IP info:  {'origin': '122.170.197.166'}\n"
     ]
    }
   ],
   "source": [
    "#web requests\n",
    "import requests\n",
    "response = requests.get(\"https://httpbin.org/ip\")\n",
    "print(\"Your IP info: \", response.text)\n",
    "print(\"Your IP info: \", response.json())"
   ]
  },
  {
   "cell_type": "code",
   "execution_count": 28,
   "id": "6efdbe7f-2679-4deb-8b9c-fc6d917d396a",
   "metadata": {},
   "outputs": [
    {
     "name": "stdout",
     "output_type": "stream",
     "text": [
      "Title:  bs4_Program\n"
     ]
    }
   ],
   "source": [
    "#website title scarper with bs4\n",
    "from bs4 import BeautifulSoup\n",
    "\n",
    "html=\"<html><head><title>bs4_Program</title></head></html>\"\n",
    "soup=BeautifulSoup(html, \"html.parser\")\n",
    "print(\"Title: \",soup.title.text)"
   ]
  },
  {
   "cell_type": "code",
   "execution_count": 29,
   "id": "631c9c3f-c392-4168-832f-9f9ecdc8a47b",
   "metadata": {},
   "outputs": [
    {
     "name": "stdout",
     "output_type": "stream",
     "text": [
      "Resolved IP:  23.192.228.80\n"
     ]
    }
   ],
   "source": [
    "#domain to ip resolver with socket\n",
    "import socket\n",
    "ip=socket.gethostbyname(\"example.com\")\n",
    "print(\"Resolved IP: \",ip)"
   ]
  },
  {
   "cell_type": "code",
   "execution_count": 30,
   "id": "c806a951-45f2-4a46-8e33-f904df3826e8",
   "metadata": {},
   "outputs": [
    {
     "name": "stdout",
     "output_type": "stream",
     "text": [
      "        Tool  Rating\n",
      "0       Nmap       4\n",
      "1  WireShark       5\n"
     ]
    }
   ],
   "source": [
    "#display data with pandas\n",
    "import  pandas as pd\n",
    "tools=['Nmap', 'WireShark']\n",
    "ratings=[4,5]\n",
    "df=pd.DataFrame({\"Tool\":tools, \"Rating\":ratings})\n",
    "print(df)"
   ]
  },
  {
   "cell_type": "code",
   "execution_count": 37,
   "id": "6dd486d8-11e8-4c8b-bdc0-5ae593c1ff67",
   "metadata": {},
   "outputs": [
    {
     "name": "stdout",
     "output_type": "stream",
     "text": [
      "20.0\n"
     ]
    }
   ],
   "source": [
    "import numpy as np\n",
    "arr=np.array([10,20,30])\n",
    "print(np.mean(arr))"
   ]
  },
  {
   "cell_type": "code",
   "execution_count": 43,
   "id": "c57ee4b2-f361-4f2b-8e59-243e9c8906e2",
   "metadata": {},
   "outputs": [
    {
     "name": "stdout",
     "output_type": "stream",
     "text": [
      "📦 Title Found:  Herman Melville - Moby-Dick\n",
      "📦 IP Address:  3.229.116.23\n"
     ]
    }
   ],
   "source": [
    "import requests, socket\n",
    "from bs4 import BeautifulSoup\n",
    "\n",
    "url=\"https://httpbin.org/html\"\n",
    "response=requests.get(url)\n",
    "soup=BeautifulSoup(response.text, \"html.parser\")\n",
    "print(\"\\U0001F4E6 Title Found: \", soup.h1.text)\n",
    "\n",
    "host_ip=socket.gethostbyname(\"httpbin.org\")\n",
    "print(\"\\U0001F4E6 IP Address: \",host_ip)"
   ]
  },
  {
   "cell_type": "code",
   "execution_count": null,
   "id": "2cb06f2a-a7be-4a28-9585-1d322b16b921",
   "metadata": {},
   "outputs": [],
   "source": []
  }
 ],
 "metadata": {
  "kernelspec": {
   "display_name": "Python 3 (ipykernel)",
   "language": "python",
   "name": "python3"
  },
  "language_info": {
   "codemirror_mode": {
    "name": "ipython",
    "version": 3
   },
   "file_extension": ".py",
   "mimetype": "text/x-python",
   "name": "python",
   "nbconvert_exporter": "python",
   "pygments_lexer": "ipython3",
   "version": "3.13.2"
  }
 },
 "nbformat": 4,
 "nbformat_minor": 5
}
