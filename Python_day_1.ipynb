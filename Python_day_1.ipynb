{
 "cells": [
  {
   "cell_type": "code",
   "execution_count": 1,
   "id": "538b7b5b-c7bd-4e56-85c2-f1f59307904f",
   "metadata": {},
   "outputs": [
    {
     "name": "stdout",
     "output_type": "stream",
     "text": [
      "Hello, Tanmaya! Welcome to Python\n"
     ]
    }
   ],
   "source": [
    "#simple print\n",
    "print(\"Hello, Tanmaya! Welcome to Python\")"
   ]
  },
  {
   "cell_type": "code",
   "execution_count": 2,
   "id": "34732b51-1104-4242-884c-242b21dea063",
   "metadata": {},
   "outputs": [
    {
     "name": "stdout",
     "output_type": "stream",
     "text": [
      "Tanmaya 21 True\n"
     ]
    }
   ],
   "source": [
    "#variables\n",
    "name=\"Tanmaya\"\n",
    "age=21\n",
    "is_student=True\n",
    "print(name, age, is_student)"
   ]
  },
  {
   "cell_type": "code",
   "execution_count": 3,
   "id": "d85a6ce5-3a81-4ec5-8602-48c0afca8799",
   "metadata": {},
   "outputs": [
    {
     "name": "stdout",
     "output_type": "stream",
     "text": [
      "namaste! 7 3.14 False\n"
     ]
    }
   ],
   "source": [
    "#data types\n",
    "greeting=\"namaste!\" #string\n",
    "count=7 #int\n",
    "pi=3.14 #float\n",
    "is_active=False #booleans\n",
    "print(greeting, count, pi, is_active)"
   ]
  },
  {
   "cell_type": "code",
   "execution_count": null,
   "id": "76519bd0-4f3e-4da0-9f41-71336ca29069",
   "metadata": {},
   "outputs": [],
   "source": [
    "name=\"Tanmaya\"\n",
    "goal=\"Mas"
   ]
  }
 ],
 "metadata": {
  "kernelspec": {
   "display_name": "Python 3 (ipykernel)",
   "language": "python",
   "name": "python3"
  },
  "language_info": {
   "codemirror_mode": {
    "name": "ipython",
    "version": 3
   },
   "file_extension": ".py",
   "mimetype": "text/x-python",
   "name": "python",
   "nbconvert_exporter": "python",
   "pygments_lexer": "ipython3",
   "version": "3.13.2"
  }
 },
 "nbformat": 4,
 "nbformat_minor": 5
}
