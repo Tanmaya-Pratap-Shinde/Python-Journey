{
 "cells": [
  {
   "cell_type": "code",
   "execution_count": 1,
   "id": "538b7b5b-c7bd-4e56-85c2-f1f59307904f",
   "metadata": {},
   "outputs": [
    {
     "name": "stdout",
     "output_type": "stream",
     "text": [
      "Hello, Tanmaya! Welcome to Python\n"
     ]
    }
   ],
   "source": [
    "#simple print\n",
    "print(\"Hello, Tanmaya! Welcome to Python\")"
   ]
  },
  {
   "cell_type": "code",
   "execution_count": 2,
   "id": "34732b51-1104-4242-884c-242b21dea063",
   "metadata": {},
   "outputs": [
    {
     "name": "stdout",
     "output_type": "stream",
     "text": [
      "Tanmaya 21 True\n"
     ]
    }
   ],
   "source": [
    "#variables\n",
    "name=\"Tanmaya\"\n",
    "age=21\n",
    "is_student=True\n",
    "print(name, age, is_student)"
   ]
  },
  {
   "cell_type": "code",
   "execution_count": 3,
   "id": "d85a6ce5-3a81-4ec5-8602-48c0afca8799",
   "metadata": {},
   "outputs": [
    {
     "name": "stdout",
     "output_type": "stream",
     "text": [
      "namaste! 7 3.14 False\n"
     ]
    }
   ],
   "source": [
    "#data types\n",
    "greeting=\"namaste!\" #string\n",
    "count=7 #int\n",
    "pi=3.14 #float\n",
    "is_active=False #booleans\n",
    "print(greeting, count, pi, is_active)"
   ]
  },
  {
   "cell_type": "code",
   "execution_count": 4,
   "id": "76519bd0-4f3e-4da0-9f41-71336ca29069",
   "metadata": {},
   "outputs": [
    {
     "name": "stdout",
     "output_type": "stream",
     "text": [
      "Hi, Tanmaya here from India with a goal to Master Python for AI + IoT\n"
     ]
    }
   ],
   "source": [
    "name=\"Tanmaya\"\n",
    "goal=\"Master Python for AI + IoT\"\n",
    "location=\"India\"\n",
    "\n",
    "print(f\"Hi, {name} here from {location} with a goal to {goal}\")"
   ]
  },
  {
   "cell_type": "code",
   "execution_count": 1,
   "id": "03278406-be62-40da-b664-26487782e2ed",
   "metadata": {},
   "outputs": [
    {
     "name": "stdout",
     "output_type": "stream",
     "text": [
      "Nice weather\n"
     ]
    }
   ],
   "source": [
    "#conditional logic\n",
    "temperature=30\n",
    "if temperature>35:\n",
    "    print(\"It's too hot\")\n",
    "elif temperature>25:\n",
    "    print(\"Nice weather\")\n",
    "else:\n",
    "    print(\"It's a bit chilly\")"
   ]
  },
  {
   "cell_type": "code",
   "execution_count": 2,
   "id": "de61c26c-ee10-4f10-a953-6c7e14ecbcc9",
   "metadata": {},
   "outputs": [
    {
     "name": "stdout",
     "output_type": "stream",
     "text": [
      "Counting:  1\n",
      "Counting:  2\n",
      "Counting:  3\n",
      "Counting:  4\n",
      "Counting:  5\n",
      "While count:  1\n",
      "While count:  2\n",
      "While count:  3\n",
      "While count:  4\n",
      "While count:  5\n"
     ]
    }
   ],
   "source": [
    "#loops\n",
    "#for loop\n",
    "for i in range(1,6):\n",
    "    print(\"Counting: \",i)\n",
    "\n",
    "#while loop\n",
    "count=1\n",
    "while count<=5:\n",
    "    print(\"While count: \",count)\n",
    "    count+=1"
   ]
  },
  {
   "cell_type": "code",
   "execution_count": 3,
   "id": "7717bb42-0560-41d2-87dd-028ad5ee1147",
   "metadata": {},
   "outputs": [
    {
     "name": "stdin",
     "output_type": "stream",
     "text": [
      "Enter your score:  92\n"
     ]
    },
    {
     "name": "stdout",
     "output_type": "stream",
     "text": [
      "Grade: A\n"
     ]
    }
   ],
   "source": [
    "#grade checker\n",
    "score=int(input(\"Enter your score: \"))\n",
    "if score>=90:\n",
    "    print(\"Grade: A\")\n",
    "elif score>=75:\n",
    "    print(\"Grade: B\")\n",
    "elif score>=60:\n",
    "    print(\"Grade: C\")\n",
    "else:\n",
    "    print(\"Grade: D\")"
   ]
  },
  {
   "cell_type": "code",
   "execution_count": 5,
   "id": "485392f7-3dd9-4945-a460-3b012bc98ba7",
   "metadata": {},
   "outputs": [
    {
     "name": "stdout",
     "output_type": "stream",
     "text": [
      "Namaste, Tanmaya! Keep coding\n"
     ]
    }
   ],
   "source": [
    "#basic function\n",
    "def greet():\n",
    "    print(\"Namaste, Tanmaya! Keep coding\")\n",
    "\n",
    "greet()"
   ]
  },
  {
   "cell_type": "code",
   "execution_count": 6,
   "id": "af2a61e7-e8c6-4d73-a4f8-52d825da5258",
   "metadata": {},
   "outputs": [
    {
     "name": "stdout",
     "output_type": "stream",
     "text": [
      "Hello ABC! You're doing great.\n"
     ]
    }
   ],
   "source": [
    "#function with parameters\n",
    "def greet_person(name):\n",
    "    print(f\"Hello {name}! You're doing great.\")\n",
    "\n",
    "greet_person(\"ABC\")"
   ]
  },
  {
   "cell_type": "code",
   "execution_count": 7,
   "id": "98256b5e-00b4-4a0e-9da0-7e1f7cd4718e",
   "metadata": {},
   "outputs": [
    {
     "name": "stdout",
     "output_type": "stream",
     "text": [
      "Square is:  64\n"
     ]
    }
   ],
   "source": [
    "#return values\n",
    "def square(num):\n",
    "    return num*num\n",
    "\n",
    "result=square(8)\n",
    "print(\"Square is: \", result)"
   ]
  },
  {
   "cell_type": "code",
   "execution_count": 8,
   "id": "894ab6fe-b194-4216-bd24-67c58bb6f869",
   "metadata": {},
   "outputs": [
    {
     "name": "stdout",
     "output_type": "stream",
     "text": [
      "Sum:  9723\n"
     ]
    }
   ],
   "source": [
    "#reusability\n",
    "def add(a,b):\n",
    "    return a+b\n",
    "\n",
    "x=1230\n",
    "y=8493\n",
    "print(\"Sum: \", add(x,y,))"
   ]
  },
  {
   "cell_type": "code",
   "execution_count": 13,
   "id": "b8e07407-9e87-44a3-b10a-bbcd3e3e083b",
   "metadata": {},
   "outputs": [
    {
     "name": "stdout",
     "output_type": "stream",
     "text": [
      "30°C =  86.0 °F\n",
      "86°F =  30.0 °C\n"
     ]
    }
   ],
   "source": [
    "#temperature conventer\n",
    "def c_to_f(celsius):\n",
    "    return(celsius*9/5)+32\n",
    "\n",
    "def f_to_c(fahrenheit):\n",
    "    return(fahrenheit-32)*5/9\n",
    "\n",
    "print(\"30\\u00B0C = \", c_to_f(30),\"\\u00B0F\")\n",
    "print(\"86\\u00B0F = \", f_to_c(86),\"\\u00B0C\")"
   ]
  },
  {
   "cell_type": "code",
   "execution_count": null,
   "id": "bb99e4e4-7e76-4a51-9c28-19b923ebdf18",
   "metadata": {},
   "outputs": [],
   "source": []
  }
 ],
 "metadata": {
  "kernelspec": {
   "display_name": "Python 3 (ipykernel)",
   "language": "python",
   "name": "python3"
  },
  "language_info": {
   "codemirror_mode": {
    "name": "ipython",
    "version": 3
   },
   "file_extension": ".py",
   "mimetype": "text/x-python",
   "name": "python",
   "nbconvert_exporter": "python",
   "pygments_lexer": "ipython3",
   "version": "3.13.2"
  }
 },
 "nbformat": 4,
 "nbformat_minor": 5
}
