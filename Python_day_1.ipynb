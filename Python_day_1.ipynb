{
 "cells": [
  {
   "cell_type": "code",
   "execution_count": 1,
   "id": "a2d0815e-e312-4a75-82c2-18726acdb880",
   "metadata": {},
   "outputs": [
    {
     "name": "stdout",
     "output_type": "stream",
     "text": [
      "Hello, Tanmaya! Welcome to Python. 🚀\n"
     ]
    }
   ],
   "source": [
    "print(\"Hello, Tanmaya! Welcome to Python. 🚀\")"
   ]
  },
  {
   "cell_type": "code",
   "execution_count": 3,
   "id": "40b01b8c-5f82-4c02-a3ee-cdc35330783b",
   "metadata": {},
   "outputs": [
    {
     "name": "stdout",
     "output_type": "stream",
     "text": [
      "Tanmaya 22 True\n"
     ]
    }
   ],
   "source": [
    "name=\"Tanmaya\"\n",
    "age=22\n",
    "is_student=True\n",
    "print(name, age, is_student)"
   ]
  },
  {
   "cell_type": "code",
   "execution_count": 4,
   "id": "14edfaf1-9828-482d-a79d-f80f72b25e5c",
   "metadata": {},
   "outputs": [
    {
     "name": "stdout",
     "output_type": "stream",
     "text": [
      "Namaste! 7 3.14 False\n"
     ]
    }
   ],
   "source": [
    "greetings=\"Namaste!\"\n",
    "count=7\n",
    "pi=3.14\n",
    "is_active=False\n",
    "print(greetings, count, pi, is_active)"
   ]
  },
  {
   "cell_type": "code",
   "execution_count": 5,
   "id": "7d0fe082-9108-4687-a856-f96545f7e499",
   "metadata": {},
   "outputs": [
    {
     "name": "stdout",
     "output_type": "stream",
     "text": [
      "nice weather.\n"
     ]
    }
   ],
   "source": [
    "temp=30\n",
    "if temp>35:\n",
    "    print(\"it's too hot!\")\n",
    "elif temp>25:\n",
    "    print(\"nice weather.\")\n",
    "else:\n",
    "    print(\"it's a bit chilly.\")"
   ]
  },
  {
   "cell_type": "code",
   "execution_count": 6,
   "id": "65663699-4c6e-45d5-b03a-62e50ded6dc2",
   "metadata": {},
   "outputs": [
    {
     "name": "stdout",
     "output_type": "stream",
     "text": [
      "counting: 1\n",
      "counting: 2\n",
      "counting: 3\n",
      "counting: 4\n",
      "counting: 5\n",
      "while count: 1\n",
      "while count: 2\n",
      "while count: 3\n",
      "while count: 4\n",
      "while count: 5\n"
     ]
    }
   ],
   "source": [
    "for i in range(1, 6):\n",
    "    print(\"counting:\",i)\n",
    "count=1\n",
    "while count<=5:\n",
    "    print(\"while count:\",count)\n",
    "    count+=1"
   ]
  },
  {
   "cell_type": "code",
   "execution_count": 7,
   "id": "161cfed8-0281-46ef-95dc-d570e90eb95d",
   "metadata": {},
   "outputs": [
    {
     "name": "stdin",
     "output_type": "stream",
     "text": [
      "enter your score:  91.9\n"
     ]
    },
    {
     "name": "stdout",
     "output_type": "stream",
     "text": [
      "Grade: A\n"
     ]
    }
   ],
   "source": [
    "score=float(input(\"enter your score: \"))\n",
    "if score>=90:\n",
    "    print(\"Grade: A\")\n",
    "elif score>=75:\n",
    "    print(\"Grade: B\")\n",
    "elif score>=60:\n",
    "    print(\"Grade C\")\n",
    "else:\n",
    "    print(\"Grade D\")"
   ]
  },
  {
   "cell_type": "code",
   "execution_count": 8,
   "id": "8e4d10db-d2c3-4268-8bba-b1df2591fbc5",
   "metadata": {},
   "outputs": [],
   "source": [
    "def greet():\n",
    "    print(\"Namaste!\")"
   ]
  },
  {
   "cell_type": "code",
   "execution_count": 9,
   "id": "a08e982f-1948-469c-aed5-a76151ecc898",
   "metadata": {},
   "outputs": [
    {
     "name": "stdout",
     "output_type": "stream",
     "text": [
      "Namaste!\n"
     ]
    }
   ],
   "source": [
    "greet()"
   ]
  },
  {
   "cell_type": "code",
   "execution_count": 12,
   "id": "8afa6973-3580-4bdf-b28c-e74adc7d5c85",
   "metadata": {},
   "outputs": [
    {
     "name": "stdout",
     "output_type": "stream",
     "text": [
      "Hello, Kritika! Doing very well\n"
     ]
    }
   ],
   "source": [
    "def greet_person(name):\n",
    "    print(f\"Hello, {name}! Doing very well\")\n",
    "greet_person(\"Kritika\")"
   ]
  },
  {
   "cell_type": "code",
   "execution_count": 14,
   "id": "4923949b-38b9-471a-af92-0484f0c19b1e",
   "metadata": {},
   "outputs": [
    {
     "name": "stdout",
     "output_type": "stream",
     "text": [
      "Square is: \n",
      " 49\n"
     ]
    }
   ],
   "source": [
    "def square(num):\n",
    "    return num*num\n",
    "result=square(7)\n",
    "print(\"Square is: \\n\", result)"
   ]
  },
  {
   "cell_type": "code",
   "execution_count": 15,
   "id": "82623f73-28d8-459c-8d32-05d53df90201",
   "metadata": {},
   "outputs": [
    {
     "name": "stdout",
     "output_type": "stream",
     "text": [
      "Sum:  15\n"
     ]
    }
   ],
   "source": [
    "def add(a,b):\n",
    "    return a+b\n",
    "x=10\n",
    "y=5\n",
    "print(\"Sum: \", add(x,y))"
   ]
  },
  {
   "cell_type": "code",
   "execution_count": 17,
   "id": "24add738-b4e9-4db9-b6df-cdc2cb016b6a",
   "metadata": {},
   "outputs": [
    {
     "name": "stdout",
     "output_type": "stream",
     "text": [
      "30°C =  86.0 °F\n",
      "86°F =  30.0 °C\n"
     ]
    }
   ],
   "source": [
    "def c_to_f(celsius):\n",
    "    return (celsius*9/5)+32\n",
    "def f_to_c(fahrenheit):\n",
    "    return (fahrenheit-32)*5/9\n",
    "\n",
    "print(\"30\\u00B0C = \", c_to_f(30), \"\\u00B0F\")\n",
    "print(\"86\\u00B0F = \", f_to_c(86), \"\\u00B0C\")"
   ]
  },
  {
   "cell_type": "code",
   "execution_count": null,
   "id": "3c2c236c-8d27-468f-8041-9b1a53f5f201",
   "metadata": {},
   "outputs": [],
   "source": []
  }
 ],
 "metadata": {
  "kernelspec": {
   "display_name": "Python 3 (ipykernel)",
   "language": "python",
   "name": "python3"
  },
  "language_info": {
   "codemirror_mode": {
    "name": "ipython",
    "version": 3
   },
   "file_extension": ".py",
   "mimetype": "text/x-python",
   "name": "python",
   "nbconvert_exporter": "python",
   "pygments_lexer": "ipython3",
   "version": "3.13.2"
  }
 },
 "nbformat": 4,
 "nbformat_minor": 5
}
